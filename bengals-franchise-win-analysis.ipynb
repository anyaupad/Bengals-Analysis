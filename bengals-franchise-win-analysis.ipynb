{
 "cells": [
  {
   "cell_type": "markdown",
   "id": "7f2c3cce",
   "metadata": {
    "papermill": {
     "duration": 0.005124,
     "end_time": "2023-06-20T19:05:38.113164",
     "exception": false,
     "start_time": "2023-06-20T19:05:38.108040",
     "status": "completed"
    },
    "tags": []
   },
   "source": [
    "# Analyzing the Cincinnati Bengals' Performance over Seasons"
   ]
  },
  {
   "cell_type": "markdown",
   "id": "4557900f",
   "metadata": {
    "papermill": {
     "duration": 0.004714,
     "end_time": "2023-06-20T19:05:38.123080",
     "exception": false,
     "start_time": "2023-06-20T19:05:38.118366",
     "status": "completed"
    },
    "tags": []
   },
   "source": [
    "I didn't grow up in a Bengals house, let alone a football house, but as I've become more entrenched in the sport, as both a fan and a player, I've learned that history is an incredibly important part of a franchise. I'm highly aware of what the recent drafting of quarterback Joe Burrow has done for the Bengals, but have there been similar periods of success in the past?\n",
    "\n",
    "My goal in completing this project was to analyze the Bengals' performance, not only before I became interested in football, but before I was even born, beginning in 1968 when the team joined the American Football League. I wanted to understand my team's history, visualizing its performance over the seasons, as well as identify certain factors that may have contributed to increased wins the way Burrow has in recent years.\n"
   ]
  },
  {
   "cell_type": "markdown",
   "id": "d8c0c792",
   "metadata": {
    "papermill": {
     "duration": 0.004721,
     "end_time": "2023-06-20T19:05:38.132797",
     "exception": false,
     "start_time": "2023-06-20T19:05:38.128076",
     "status": "completed"
    },
    "tags": []
   },
   "source": [
    "### Importing libraries and the dataset \n",
    "The dataset for this project was dowloaded as a .csv file from pro-football-reference.com."
   ]
  },
  {
   "cell_type": "code",
   "execution_count": 1,
   "id": "86e40e49",
   "metadata": {
    "execution": {
     "iopub.execute_input": "2023-06-20T19:05:38.145164Z",
     "iopub.status.busy": "2023-06-20T19:05:38.144611Z",
     "iopub.status.idle": "2023-06-20T19:05:38.157318Z",
     "shell.execute_reply": "2023-06-20T19:05:38.156133Z"
    },
    "papermill": {
     "duration": 0.022038,
     "end_time": "2023-06-20T19:05:38.159775",
     "exception": false,
     "start_time": "2023-06-20T19:05:38.137737",
     "status": "completed"
    },
    "tags": []
   },
   "outputs": [],
   "source": [
    "import pandas as pd\n",
    "import matplotlib.pyplot as plt"
   ]
  },
  {
   "cell_type": "code",
   "execution_count": 2,
   "id": "3293c858",
   "metadata": {
    "execution": {
     "iopub.execute_input": "2023-06-20T19:05:38.174071Z",
     "iopub.status.busy": "2023-06-20T19:05:38.173608Z",
     "iopub.status.idle": "2023-06-20T19:05:38.231738Z",
     "shell.execute_reply": "2023-06-20T19:05:38.230545Z"
    },
    "papermill": {
     "duration": 0.067236,
     "end_time": "2023-06-20T19:05:38.234190",
     "exception": false,
     "start_time": "2023-06-20T19:05:38.166954",
     "status": "completed"
    },
    "tags": []
   },
   "outputs": [
    {
     "data": {
      "text/html": [
       "<div>\n",
       "<style scoped>\n",
       "    .dataframe tbody tr th:only-of-type {\n",
       "        vertical-align: middle;\n",
       "    }\n",
       "\n",
       "    .dataframe tbody tr th {\n",
       "        vertical-align: top;\n",
       "    }\n",
       "\n",
       "    .dataframe thead th {\n",
       "        text-align: right;\n",
       "    }\n",
       "</style>\n",
       "<table border=\"1\" class=\"dataframe\">\n",
       "  <thead>\n",
       "    <tr style=\"text-align: right;\">\n",
       "      <th></th>\n",
       "      <th>Year</th>\n",
       "      <th>Lg</th>\n",
       "      <th>Tm</th>\n",
       "      <th>W</th>\n",
       "      <th>L</th>\n",
       "      <th>T</th>\n",
       "      <th>Div. Finish</th>\n",
       "      <th>Playoffs</th>\n",
       "      <th>PF</th>\n",
       "      <th>PA</th>\n",
       "      <th>PD</th>\n",
       "    </tr>\n",
       "  </thead>\n",
       "  <tbody>\n",
       "    <tr>\n",
       "      <th>0</th>\n",
       "      <td>2022</td>\n",
       "      <td>NFL</td>\n",
       "      <td>Cincinnati Bengals*</td>\n",
       "      <td>12</td>\n",
       "      <td>4</td>\n",
       "      <td>0</td>\n",
       "      <td>1st of 4</td>\n",
       "      <td>Lost Conf</td>\n",
       "      <td>418</td>\n",
       "      <td>322</td>\n",
       "      <td>96</td>\n",
       "    </tr>\n",
       "    <tr>\n",
       "      <th>1</th>\n",
       "      <td>2021</td>\n",
       "      <td>NFL</td>\n",
       "      <td>Cincinnati Bengals*</td>\n",
       "      <td>10</td>\n",
       "      <td>7</td>\n",
       "      <td>0</td>\n",
       "      <td>1st of 4</td>\n",
       "      <td>Lost SB</td>\n",
       "      <td>460</td>\n",
       "      <td>376</td>\n",
       "      <td>84</td>\n",
       "    </tr>\n",
       "    <tr>\n",
       "      <th>2</th>\n",
       "      <td>2020</td>\n",
       "      <td>NFL</td>\n",
       "      <td>Cincinnati Bengals</td>\n",
       "      <td>4</td>\n",
       "      <td>11</td>\n",
       "      <td>1</td>\n",
       "      <td>4th of 4</td>\n",
       "      <td>NaN</td>\n",
       "      <td>311</td>\n",
       "      <td>424</td>\n",
       "      <td>-113</td>\n",
       "    </tr>\n",
       "    <tr>\n",
       "      <th>3</th>\n",
       "      <td>2019</td>\n",
       "      <td>NFL</td>\n",
       "      <td>Cincinnati Bengals</td>\n",
       "      <td>2</td>\n",
       "      <td>14</td>\n",
       "      <td>0</td>\n",
       "      <td>4th of 4</td>\n",
       "      <td>NaN</td>\n",
       "      <td>279</td>\n",
       "      <td>420</td>\n",
       "      <td>-141</td>\n",
       "    </tr>\n",
       "    <tr>\n",
       "      <th>4</th>\n",
       "      <td>2018</td>\n",
       "      <td>NFL</td>\n",
       "      <td>Cincinnati Bengals</td>\n",
       "      <td>6</td>\n",
       "      <td>10</td>\n",
       "      <td>0</td>\n",
       "      <td>4th of 4</td>\n",
       "      <td>NaN</td>\n",
       "      <td>368</td>\n",
       "      <td>455</td>\n",
       "      <td>-87</td>\n",
       "    </tr>\n",
       "  </tbody>\n",
       "</table>\n",
       "</div>"
      ],
      "text/plain": [
       "   Year   Lg                   Tm   W   L  T Div. Finish   Playoffs   PF   PA  \\\n",
       "0  2022  NFL  Cincinnati Bengals*  12   4  0    1st of 4  Lost Conf  418  322   \n",
       "1  2021  NFL  Cincinnati Bengals*  10   7  0    1st of 4    Lost SB  460  376   \n",
       "2  2020  NFL   Cincinnati Bengals   4  11  1    4th of 4        NaN  311  424   \n",
       "3  2019  NFL   Cincinnati Bengals   2  14  0    4th of 4        NaN  279  420   \n",
       "4  2018  NFL   Cincinnati Bengals   6  10  0    4th of 4        NaN  368  455   \n",
       "\n",
       "    PD  \n",
       "0   96  \n",
       "1   84  \n",
       "2 -113  \n",
       "3 -141  \n",
       "4  -87  "
      ]
     },
     "execution_count": 2,
     "metadata": {},
     "output_type": "execute_result"
    }
   ],
   "source": [
    "bengals = pd.read_csv('/kaggle/input/bengals/bengals.csv') \n",
    "bengals.head()"
   ]
  },
  {
   "cell_type": "markdown",
   "id": "b36fee8b",
   "metadata": {
    "papermill": {
     "duration": 0.005243,
     "end_time": "2023-06-20T19:05:38.245010",
     "exception": false,
     "start_time": "2023-06-20T19:05:38.239767",
     "status": "completed"
    },
    "tags": []
   },
   "source": [
    "### Pre-processing the dataset\n",
    "Since this dataset was directly sourced from the Internet, there are a few issues that need to be taken care of before analyzing. "
   ]
  },
  {
   "cell_type": "code",
   "execution_count": 3,
   "id": "f6cd1f64",
   "metadata": {
    "execution": {
     "iopub.execute_input": "2023-06-20T19:05:38.258147Z",
     "iopub.status.busy": "2023-06-20T19:05:38.257716Z",
     "iopub.status.idle": "2023-06-20T19:05:38.267177Z",
     "shell.execute_reply": "2023-06-20T19:05:38.266034Z"
    },
    "papermill": {
     "duration": 0.018836,
     "end_time": "2023-06-20T19:05:38.269592",
     "exception": false,
     "start_time": "2023-06-20T19:05:38.250756",
     "status": "completed"
    },
    "tags": []
   },
   "outputs": [
    {
     "data": {
      "text/plain": [
       "array(['Cincinnati Bengals*', 'Cincinnati Bengals'], dtype=object)"
      ]
     },
     "execution_count": 3,
     "metadata": {},
     "output_type": "execute_result"
    }
   ],
   "source": [
    "# looking at the different variations of the team name\n",
    "bengals.Tm.unique()"
   ]
  },
  {
   "cell_type": "code",
   "execution_count": 4,
   "id": "6c5c2e72",
   "metadata": {
    "execution": {
     "iopub.execute_input": "2023-06-20T19:05:38.283351Z",
     "iopub.status.busy": "2023-06-20T19:05:38.282935Z",
     "iopub.status.idle": "2023-06-20T19:05:38.292392Z",
     "shell.execute_reply": "2023-06-20T19:05:38.291199Z"
    },
    "papermill": {
     "duration": 0.019501,
     "end_time": "2023-06-20T19:05:38.294834",
     "exception": false,
     "start_time": "2023-06-20T19:05:38.275333",
     "status": "completed"
    },
    "tags": []
   },
   "outputs": [
    {
     "data": {
      "text/plain": [
       "array(['Cincinnati Bengals'], dtype=object)"
      ]
     },
     "execution_count": 4,
     "metadata": {},
     "output_type": "execute_result"
    }
   ],
   "source": [
    "# standardizing the team name and confirming there is only 1 unique spelling now \n",
    "bengals['Tm'] = bengals['Tm'].replace('Cincinnati Bengals*','Cincinnati Bengals')\n",
    "bengals.Tm.unique()"
   ]
  },
  {
   "cell_type": "code",
   "execution_count": 5,
   "id": "dda8dc81",
   "metadata": {
    "execution": {
     "iopub.execute_input": "2023-06-20T19:05:38.309709Z",
     "iopub.status.busy": "2023-06-20T19:05:38.309221Z",
     "iopub.status.idle": "2023-06-20T19:05:38.337881Z",
     "shell.execute_reply": "2023-06-20T19:05:38.336279Z"
    },
    "papermill": {
     "duration": 0.039784,
     "end_time": "2023-06-20T19:05:38.340914",
     "exception": false,
     "start_time": "2023-06-20T19:05:38.301130",
     "status": "completed"
    },
    "tags": []
   },
   "outputs": [
    {
     "name": "stdout",
     "output_type": "stream",
     "text": [
      "<class 'pandas.core.frame.DataFrame'>\n",
      "RangeIndex: 55 entries, 0 to 54\n",
      "Data columns (total 11 columns):\n",
      " #   Column       Non-Null Count  Dtype \n",
      "---  ------       --------------  ----- \n",
      " 0   Year         55 non-null     int64 \n",
      " 1   Lg           55 non-null     object\n",
      " 2   Tm           55 non-null     object\n",
      " 3   W            55 non-null     int64 \n",
      " 4   L            55 non-null     int64 \n",
      " 5   T            55 non-null     int64 \n",
      " 6   Div. Finish  55 non-null     object\n",
      " 7   Playoffs     16 non-null     object\n",
      " 8   PF           55 non-null     int64 \n",
      " 9   PA           55 non-null     int64 \n",
      " 10  PD           55 non-null     int64 \n",
      "dtypes: int64(7), object(4)\n",
      "memory usage: 4.9+ KB\n"
     ]
    }
   ],
   "source": [
    "# confirming that all numerical columns are integer values. \n",
    "bengals.info()"
   ]
  },
  {
   "cell_type": "markdown",
   "id": "acaa469a",
   "metadata": {
    "papermill": {
     "duration": 0.005595,
     "end_time": "2023-06-20T19:05:38.353056",
     "exception": false,
     "start_time": "2023-06-20T19:05:38.347461",
     "status": "completed"
    },
    "tags": []
   },
   "source": [
    "### Creating a PCT Column \n",
    "In American football, PCT, or percentage, is a popular measurement of performance, as it indicates how many wins a team has in a season. It is simply calculated by dividing the amount of wins in a season by the total number of games played. In this analysis, PCT is used to measure and visualize Cincnnati's performance throughout the years. Since the dataset only contained Wins and Loses, a new column with the PCT calculation is created for each season."
   ]
  },
  {
   "cell_type": "code",
   "execution_count": 6,
   "id": "a992bdee",
   "metadata": {
    "execution": {
     "iopub.execute_input": "2023-06-20T19:05:38.367789Z",
     "iopub.status.busy": "2023-06-20T19:05:38.367392Z",
     "iopub.status.idle": "2023-06-20T19:05:38.384481Z",
     "shell.execute_reply": "2023-06-20T19:05:38.383060Z"
    },
    "papermill": {
     "duration": 0.027278,
     "end_time": "2023-06-20T19:05:38.386711",
     "exception": false,
     "start_time": "2023-06-20T19:05:38.359433",
     "status": "completed"
    },
    "tags": []
   },
   "outputs": [
    {
     "data": {
      "text/html": [
       "<div>\n",
       "<style scoped>\n",
       "    .dataframe tbody tr th:only-of-type {\n",
       "        vertical-align: middle;\n",
       "    }\n",
       "\n",
       "    .dataframe tbody tr th {\n",
       "        vertical-align: top;\n",
       "    }\n",
       "\n",
       "    .dataframe thead th {\n",
       "        text-align: right;\n",
       "    }\n",
       "</style>\n",
       "<table border=\"1\" class=\"dataframe\">\n",
       "  <thead>\n",
       "    <tr style=\"text-align: right;\">\n",
       "      <th></th>\n",
       "      <th>Year</th>\n",
       "      <th>Lg</th>\n",
       "      <th>Tm</th>\n",
       "      <th>W</th>\n",
       "      <th>L</th>\n",
       "      <th>T</th>\n",
       "      <th>Div. Finish</th>\n",
       "      <th>Playoffs</th>\n",
       "      <th>PF</th>\n",
       "      <th>PA</th>\n",
       "      <th>PD</th>\n",
       "      <th>W-L%</th>\n",
       "    </tr>\n",
       "  </thead>\n",
       "  <tbody>\n",
       "    <tr>\n",
       "      <th>0</th>\n",
       "      <td>2022</td>\n",
       "      <td>NFL</td>\n",
       "      <td>Cincinnati Bengals</td>\n",
       "      <td>12</td>\n",
       "      <td>4</td>\n",
       "      <td>0</td>\n",
       "      <td>1st of 4</td>\n",
       "      <td>Lost Conf</td>\n",
       "      <td>418</td>\n",
       "      <td>322</td>\n",
       "      <td>96</td>\n",
       "      <td>0.750000</td>\n",
       "    </tr>\n",
       "    <tr>\n",
       "      <th>1</th>\n",
       "      <td>2021</td>\n",
       "      <td>NFL</td>\n",
       "      <td>Cincinnati Bengals</td>\n",
       "      <td>10</td>\n",
       "      <td>7</td>\n",
       "      <td>0</td>\n",
       "      <td>1st of 4</td>\n",
       "      <td>Lost SB</td>\n",
       "      <td>460</td>\n",
       "      <td>376</td>\n",
       "      <td>84</td>\n",
       "      <td>0.588235</td>\n",
       "    </tr>\n",
       "    <tr>\n",
       "      <th>2</th>\n",
       "      <td>2020</td>\n",
       "      <td>NFL</td>\n",
       "      <td>Cincinnati Bengals</td>\n",
       "      <td>4</td>\n",
       "      <td>11</td>\n",
       "      <td>1</td>\n",
       "      <td>4th of 4</td>\n",
       "      <td>NaN</td>\n",
       "      <td>311</td>\n",
       "      <td>424</td>\n",
       "      <td>-113</td>\n",
       "      <td>0.266667</td>\n",
       "    </tr>\n",
       "    <tr>\n",
       "      <th>3</th>\n",
       "      <td>2019</td>\n",
       "      <td>NFL</td>\n",
       "      <td>Cincinnati Bengals</td>\n",
       "      <td>2</td>\n",
       "      <td>14</td>\n",
       "      <td>0</td>\n",
       "      <td>4th of 4</td>\n",
       "      <td>NaN</td>\n",
       "      <td>279</td>\n",
       "      <td>420</td>\n",
       "      <td>-141</td>\n",
       "      <td>0.125000</td>\n",
       "    </tr>\n",
       "    <tr>\n",
       "      <th>4</th>\n",
       "      <td>2018</td>\n",
       "      <td>NFL</td>\n",
       "      <td>Cincinnati Bengals</td>\n",
       "      <td>6</td>\n",
       "      <td>10</td>\n",
       "      <td>0</td>\n",
       "      <td>4th of 4</td>\n",
       "      <td>NaN</td>\n",
       "      <td>368</td>\n",
       "      <td>455</td>\n",
       "      <td>-87</td>\n",
       "      <td>0.375000</td>\n",
       "    </tr>\n",
       "  </tbody>\n",
       "</table>\n",
       "</div>"
      ],
      "text/plain": [
       "   Year   Lg                  Tm   W   L  T Div. Finish   Playoffs   PF   PA  \\\n",
       "0  2022  NFL  Cincinnati Bengals  12   4  0    1st of 4  Lost Conf  418  322   \n",
       "1  2021  NFL  Cincinnati Bengals  10   7  0    1st of 4    Lost SB  460  376   \n",
       "2  2020  NFL  Cincinnati Bengals   4  11  1    4th of 4        NaN  311  424   \n",
       "3  2019  NFL  Cincinnati Bengals   2  14  0    4th of 4        NaN  279  420   \n",
       "4  2018  NFL  Cincinnati Bengals   6  10  0    4th of 4        NaN  368  455   \n",
       "\n",
       "    PD      W-L%  \n",
       "0   96  0.750000  \n",
       "1   84  0.588235  \n",
       "2 -113  0.266667  \n",
       "3 -141  0.125000  \n",
       "4  -87  0.375000  "
      ]
     },
     "execution_count": 6,
     "metadata": {},
     "output_type": "execute_result"
    }
   ],
   "source": [
    "# creating a column for PCT by calculating the Wins in a season dividied by the Wins and Loses of \n",
    "# that season (the total number of games played)\n",
    "bengals['W-L%'] = bengals['W'] / (bengals['W']+bengals['L'])\n",
    "bengals.head()"
   ]
  },
  {
   "cell_type": "markdown",
   "id": "eb8b7e6c",
   "metadata": {
    "papermill": {
     "duration": 0.006466,
     "end_time": "2023-06-20T19:05:38.399376",
     "exception": false,
     "start_time": "2023-06-20T19:05:38.392910",
     "status": "completed"
    },
    "tags": []
   },
   "source": [
    "### Calculating the PCT difference \n",
    "To find the largest increases in performance between two consecutive seasons, I will need to find the difference in W-L% between rows, and then create a new column with this information."
   ]
  },
  {
   "cell_type": "code",
   "execution_count": 7,
   "id": "519576bc",
   "metadata": {
    "execution": {
     "iopub.execute_input": "2023-06-20T19:05:38.415027Z",
     "iopub.status.busy": "2023-06-20T19:05:38.414343Z",
     "iopub.status.idle": "2023-06-20T19:05:38.437468Z",
     "shell.execute_reply": "2023-06-20T19:05:38.436162Z"
    },
    "papermill": {
     "duration": 0.034759,
     "end_time": "2023-06-20T19:05:38.440231",
     "exception": false,
     "start_time": "2023-06-20T19:05:38.405472",
     "status": "completed"
    },
    "tags": []
   },
   "outputs": [
    {
     "data": {
      "text/html": [
       "<div>\n",
       "<style scoped>\n",
       "    .dataframe tbody tr th:only-of-type {\n",
       "        vertical-align: middle;\n",
       "    }\n",
       "\n",
       "    .dataframe tbody tr th {\n",
       "        vertical-align: top;\n",
       "    }\n",
       "\n",
       "    .dataframe thead th {\n",
       "        text-align: right;\n",
       "    }\n",
       "</style>\n",
       "<table border=\"1\" class=\"dataframe\">\n",
       "  <thead>\n",
       "    <tr style=\"text-align: right;\">\n",
       "      <th></th>\n",
       "      <th>Year</th>\n",
       "      <th>Lg</th>\n",
       "      <th>Tm</th>\n",
       "      <th>W</th>\n",
       "      <th>L</th>\n",
       "      <th>T</th>\n",
       "      <th>Div. Finish</th>\n",
       "      <th>Playoffs</th>\n",
       "      <th>PF</th>\n",
       "      <th>PA</th>\n",
       "      <th>PD</th>\n",
       "      <th>W-L%</th>\n",
       "      <th>W-L% Difference</th>\n",
       "    </tr>\n",
       "  </thead>\n",
       "  <tbody>\n",
       "    <tr>\n",
       "      <th>0</th>\n",
       "      <td>2022</td>\n",
       "      <td>NFL</td>\n",
       "      <td>Cincinnati Bengals</td>\n",
       "      <td>12</td>\n",
       "      <td>4</td>\n",
       "      <td>0</td>\n",
       "      <td>1st of 4</td>\n",
       "      <td>Lost Conf</td>\n",
       "      <td>418</td>\n",
       "      <td>322</td>\n",
       "      <td>96</td>\n",
       "      <td>0.750000</td>\n",
       "      <td>NaN</td>\n",
       "    </tr>\n",
       "    <tr>\n",
       "      <th>1</th>\n",
       "      <td>2021</td>\n",
       "      <td>NFL</td>\n",
       "      <td>Cincinnati Bengals</td>\n",
       "      <td>10</td>\n",
       "      <td>7</td>\n",
       "      <td>0</td>\n",
       "      <td>1st of 4</td>\n",
       "      <td>Lost SB</td>\n",
       "      <td>460</td>\n",
       "      <td>376</td>\n",
       "      <td>84</td>\n",
       "      <td>0.588235</td>\n",
       "      <td>-0.161765</td>\n",
       "    </tr>\n",
       "    <tr>\n",
       "      <th>2</th>\n",
       "      <td>2020</td>\n",
       "      <td>NFL</td>\n",
       "      <td>Cincinnati Bengals</td>\n",
       "      <td>4</td>\n",
       "      <td>11</td>\n",
       "      <td>1</td>\n",
       "      <td>4th of 4</td>\n",
       "      <td>NaN</td>\n",
       "      <td>311</td>\n",
       "      <td>424</td>\n",
       "      <td>-113</td>\n",
       "      <td>0.266667</td>\n",
       "      <td>-0.321569</td>\n",
       "    </tr>\n",
       "    <tr>\n",
       "      <th>3</th>\n",
       "      <td>2019</td>\n",
       "      <td>NFL</td>\n",
       "      <td>Cincinnati Bengals</td>\n",
       "      <td>2</td>\n",
       "      <td>14</td>\n",
       "      <td>0</td>\n",
       "      <td>4th of 4</td>\n",
       "      <td>NaN</td>\n",
       "      <td>279</td>\n",
       "      <td>420</td>\n",
       "      <td>-141</td>\n",
       "      <td>0.125000</td>\n",
       "      <td>-0.141667</td>\n",
       "    </tr>\n",
       "    <tr>\n",
       "      <th>4</th>\n",
       "      <td>2018</td>\n",
       "      <td>NFL</td>\n",
       "      <td>Cincinnati Bengals</td>\n",
       "      <td>6</td>\n",
       "      <td>10</td>\n",
       "      <td>0</td>\n",
       "      <td>4th of 4</td>\n",
       "      <td>NaN</td>\n",
       "      <td>368</td>\n",
       "      <td>455</td>\n",
       "      <td>-87</td>\n",
       "      <td>0.375000</td>\n",
       "      <td>0.250000</td>\n",
       "    </tr>\n",
       "  </tbody>\n",
       "</table>\n",
       "</div>"
      ],
      "text/plain": [
       "   Year   Lg                  Tm   W   L  T Div. Finish   Playoffs   PF   PA  \\\n",
       "0  2022  NFL  Cincinnati Bengals  12   4  0    1st of 4  Lost Conf  418  322   \n",
       "1  2021  NFL  Cincinnati Bengals  10   7  0    1st of 4    Lost SB  460  376   \n",
       "2  2020  NFL  Cincinnati Bengals   4  11  1    4th of 4        NaN  311  424   \n",
       "3  2019  NFL  Cincinnati Bengals   2  14  0    4th of 4        NaN  279  420   \n",
       "4  2018  NFL  Cincinnati Bengals   6  10  0    4th of 4        NaN  368  455   \n",
       "\n",
       "    PD      W-L%  W-L% Difference  \n",
       "0   96  0.750000              NaN  \n",
       "1   84  0.588235        -0.161765  \n",
       "2 -113  0.266667        -0.321569  \n",
       "3 -141  0.125000        -0.141667  \n",
       "4  -87  0.375000         0.250000  "
      ]
     },
     "execution_count": 7,
     "metadata": {},
     "output_type": "execute_result"
    }
   ],
   "source": [
    "bengals['W-L% Difference'] = bengals['W-L%'].diff()\n",
    "bengals.head()"
   ]
  },
  {
   "cell_type": "code",
   "execution_count": 8,
   "id": "064c8ff8",
   "metadata": {
    "execution": {
     "iopub.execute_input": "2023-06-20T19:05:38.455851Z",
     "iopub.status.busy": "2023-06-20T19:05:38.455446Z",
     "iopub.status.idle": "2023-06-20T19:05:38.462880Z",
     "shell.execute_reply": "2023-06-20T19:05:38.461360Z"
    },
    "papermill": {
     "duration": 0.018187,
     "end_time": "2023-06-20T19:05:38.465551",
     "exception": false,
     "start_time": "2023-06-20T19:05:38.447364",
     "status": "completed"
    },
    "tags": []
   },
   "outputs": [],
   "source": [
    "# changing the negative values positive and vice versa\n",
    "bengals['WL% Difference'] = bengals['W-L% Difference'].apply(lambda x: -x)"
   ]
  },
  {
   "cell_type": "code",
   "execution_count": 9,
   "id": "e74a9280",
   "metadata": {
    "execution": {
     "iopub.execute_input": "2023-06-20T19:05:38.480542Z",
     "iopub.status.busy": "2023-06-20T19:05:38.479768Z",
     "iopub.status.idle": "2023-06-20T19:05:38.503155Z",
     "shell.execute_reply": "2023-06-20T19:05:38.501356Z"
    },
    "papermill": {
     "duration": 0.033879,
     "end_time": "2023-06-20T19:05:38.505959",
     "exception": false,
     "start_time": "2023-06-20T19:05:38.472080",
     "status": "completed"
    },
    "tags": []
   },
   "outputs": [
    {
     "data": {
      "text/html": [
       "<div>\n",
       "<style scoped>\n",
       "    .dataframe tbody tr th:only-of-type {\n",
       "        vertical-align: middle;\n",
       "    }\n",
       "\n",
       "    .dataframe tbody tr th {\n",
       "        vertical-align: top;\n",
       "    }\n",
       "\n",
       "    .dataframe thead th {\n",
       "        text-align: right;\n",
       "    }\n",
       "</style>\n",
       "<table border=\"1\" class=\"dataframe\">\n",
       "  <thead>\n",
       "    <tr style=\"text-align: right;\">\n",
       "      <th></th>\n",
       "      <th>Year</th>\n",
       "      <th>Lg</th>\n",
       "      <th>Tm</th>\n",
       "      <th>W</th>\n",
       "      <th>L</th>\n",
       "      <th>T</th>\n",
       "      <th>Div. Finish</th>\n",
       "      <th>Playoffs</th>\n",
       "      <th>PF</th>\n",
       "      <th>PA</th>\n",
       "      <th>PD</th>\n",
       "      <th>W-L%</th>\n",
       "      <th>WL% Difference</th>\n",
       "    </tr>\n",
       "  </thead>\n",
       "  <tbody>\n",
       "    <tr>\n",
       "      <th>0</th>\n",
       "      <td>2022</td>\n",
       "      <td>NFL</td>\n",
       "      <td>Cincinnati Bengals</td>\n",
       "      <td>12</td>\n",
       "      <td>4</td>\n",
       "      <td>0</td>\n",
       "      <td>1st of 4</td>\n",
       "      <td>Lost Conf</td>\n",
       "      <td>418</td>\n",
       "      <td>322</td>\n",
       "      <td>96</td>\n",
       "      <td>0.750000</td>\n",
       "      <td>NaN</td>\n",
       "    </tr>\n",
       "    <tr>\n",
       "      <th>1</th>\n",
       "      <td>2021</td>\n",
       "      <td>NFL</td>\n",
       "      <td>Cincinnati Bengals</td>\n",
       "      <td>10</td>\n",
       "      <td>7</td>\n",
       "      <td>0</td>\n",
       "      <td>1st of 4</td>\n",
       "      <td>Lost SB</td>\n",
       "      <td>460</td>\n",
       "      <td>376</td>\n",
       "      <td>84</td>\n",
       "      <td>0.588235</td>\n",
       "      <td>0.161765</td>\n",
       "    </tr>\n",
       "    <tr>\n",
       "      <th>2</th>\n",
       "      <td>2020</td>\n",
       "      <td>NFL</td>\n",
       "      <td>Cincinnati Bengals</td>\n",
       "      <td>4</td>\n",
       "      <td>11</td>\n",
       "      <td>1</td>\n",
       "      <td>4th of 4</td>\n",
       "      <td>NaN</td>\n",
       "      <td>311</td>\n",
       "      <td>424</td>\n",
       "      <td>-113</td>\n",
       "      <td>0.266667</td>\n",
       "      <td>0.321569</td>\n",
       "    </tr>\n",
       "    <tr>\n",
       "      <th>3</th>\n",
       "      <td>2019</td>\n",
       "      <td>NFL</td>\n",
       "      <td>Cincinnati Bengals</td>\n",
       "      <td>2</td>\n",
       "      <td>14</td>\n",
       "      <td>0</td>\n",
       "      <td>4th of 4</td>\n",
       "      <td>NaN</td>\n",
       "      <td>279</td>\n",
       "      <td>420</td>\n",
       "      <td>-141</td>\n",
       "      <td>0.125000</td>\n",
       "      <td>0.141667</td>\n",
       "    </tr>\n",
       "    <tr>\n",
       "      <th>4</th>\n",
       "      <td>2018</td>\n",
       "      <td>NFL</td>\n",
       "      <td>Cincinnati Bengals</td>\n",
       "      <td>6</td>\n",
       "      <td>10</td>\n",
       "      <td>0</td>\n",
       "      <td>4th of 4</td>\n",
       "      <td>NaN</td>\n",
       "      <td>368</td>\n",
       "      <td>455</td>\n",
       "      <td>-87</td>\n",
       "      <td>0.375000</td>\n",
       "      <td>-0.250000</td>\n",
       "    </tr>\n",
       "  </tbody>\n",
       "</table>\n",
       "</div>"
      ],
      "text/plain": [
       "   Year   Lg                  Tm   W   L  T Div. Finish   Playoffs   PF   PA  \\\n",
       "0  2022  NFL  Cincinnati Bengals  12   4  0    1st of 4  Lost Conf  418  322   \n",
       "1  2021  NFL  Cincinnati Bengals  10   7  0    1st of 4    Lost SB  460  376   \n",
       "2  2020  NFL  Cincinnati Bengals   4  11  1    4th of 4        NaN  311  424   \n",
       "3  2019  NFL  Cincinnati Bengals   2  14  0    4th of 4        NaN  279  420   \n",
       "4  2018  NFL  Cincinnati Bengals   6  10  0    4th of 4        NaN  368  455   \n",
       "\n",
       "    PD      W-L%  WL% Difference  \n",
       "0   96  0.750000             NaN  \n",
       "1   84  0.588235        0.161765  \n",
       "2 -113  0.266667        0.321569  \n",
       "3 -141  0.125000        0.141667  \n",
       "4  -87  0.375000       -0.250000  "
      ]
     },
     "execution_count": 9,
     "metadata": {},
     "output_type": "execute_result"
    }
   ],
   "source": [
    "# dropping the extraneous difference column \n",
    "bengals = bengals.drop('W-L% Difference', axis=1)\n",
    "bengals.head()"
   ]
  },
  {
   "cell_type": "markdown",
   "id": "2c73700c",
   "metadata": {
    "papermill": {
     "duration": 0.006467,
     "end_time": "2023-06-20T19:05:38.519287",
     "exception": false,
     "start_time": "2023-06-20T19:05:38.512820",
     "status": "completed"
    },
    "tags": []
   },
   "source": [
    "### Finding the largest increases in performance \n",
    "Now that PCT and PCT differences between seasons have been calculated, I can find seasons where there were the greatest increases in performance. I am going to calculate the five largest PTC increases through franchise history. "
   ]
  },
  {
   "cell_type": "code",
   "execution_count": 10,
   "id": "2f4caff6",
   "metadata": {
    "execution": {
     "iopub.execute_input": "2023-06-20T19:05:38.535299Z",
     "iopub.status.busy": "2023-06-20T19:05:38.534621Z",
     "iopub.status.idle": "2023-06-20T19:05:38.545027Z",
     "shell.execute_reply": "2023-06-20T19:05:38.544070Z"
    },
    "papermill": {
     "duration": 0.021656,
     "end_time": "2023-06-20T19:05:38.547624",
     "exception": false,
     "start_time": "2023-06-20T19:05:38.525968",
     "status": "completed"
    },
    "tags": []
   },
   "outputs": [],
   "source": [
    "top_5 = bengals['WL% Difference'].nlargest(5)\n",
    "# finding the five largest values"
   ]
  },
  {
   "cell_type": "code",
   "execution_count": 11,
   "id": "1a1aaf29",
   "metadata": {
    "execution": {
     "iopub.execute_input": "2023-06-20T19:05:38.564124Z",
     "iopub.status.busy": "2023-06-20T19:05:38.563647Z",
     "iopub.status.idle": "2023-06-20T19:05:38.579510Z",
     "shell.execute_reply": "2023-06-20T19:05:38.578006Z"
    },
    "papermill": {
     "duration": 0.027929,
     "end_time": "2023-06-20T19:05:38.582858",
     "exception": false,
     "start_time": "2023-06-20T19:05:38.554929",
     "status": "completed"
    },
    "tags": []
   },
   "outputs": [
    {
     "name": "stdout",
     "output_type": "stream",
     "text": [
      "Top 5 Values:\n",
      "35    0.483333\n",
      "20    0.375000\n",
      "42    0.375000\n",
      "14    0.358333\n",
      "2     0.321569\n",
      "Name: WL% Difference, dtype: float64\n",
      "Rows with Top 5 Values:\n",
      "    Year   Lg                  Tm  W   L  T Div. Finish Playoffs   PF   PA  \\\n",
      "2   2020  NFL  Cincinnati Bengals  4  11  1    4th of 4      NaN  311  424   \n",
      "14  2008  NFL  Cincinnati Bengals  4  11  1    3rd of 4      NaN  204  364   \n",
      "20  2002  NFL  Cincinnati Bengals  2  14  0    4th of 4      NaN  279  456   \n",
      "35  1987  NFL  Cincinnati Bengals  4  11  0    4th of 4      NaN  285  370   \n",
      "42  1980  NFL  Cincinnati Bengals  6  10  0    4th of 4      NaN  244  312   \n",
      "\n",
      "     PD      W-L%  WL% Difference  \n",
      "2  -113  0.266667        0.321569  \n",
      "14 -160  0.266667        0.358333  \n",
      "20 -177  0.125000        0.375000  \n",
      "35  -85  0.266667        0.483333  \n",
      "42  -68  0.375000        0.375000  \n"
     ]
    }
   ],
   "source": [
    "rows_with_top5_values = bengals[bengals['WL% Difference'].isin(top_5)]\n",
    "# grabbing the rows with the top five values, so I can also see the season years\n",
    "\n",
    "# Printing the result\n",
    "print(\"Top 5 Values:\")\n",
    "print(top_5)\n",
    "\n",
    "print(\"Rows with Top 5 Values:\")\n",
    "print(rows_with_top5_values)"
   ]
  },
  {
   "cell_type": "markdown",
   "id": "b03aed4d",
   "metadata": {
    "papermill": {
     "duration": 0.00634,
     "end_time": "2023-06-20T19:05:38.596022",
     "exception": false,
     "start_time": "2023-06-20T19:05:38.589682",
     "status": "completed"
    },
    "tags": []
   },
   "source": [
    "### A Note on Seasons and Years  \n",
    "Like with academic school years, a given NFL season spans portions of two calander years. For example, in this dataset, year 2020 in a row refers to the 2020-2021 season, which began in September 2020 and ended in January 2021. \n",
    "\n",
    "2020 was found to have one of the largest PCT differences between season, which means that the increase occured between the 2020-21 season and the 2021-22 season. \n",
    "\n",
    "For clarity, the four additional largest increases in PCT were from: 2008-2009 to 2009-2010, 2002-2003 to 2003-2004, 1987-1988 to 1988-1987, and 1980-81 to 1981-1982. "
   ]
  },
  {
   "cell_type": "markdown",
   "id": "3fa16c94",
   "metadata": {
    "papermill": {
     "duration": 0.007522,
     "end_time": "2023-06-20T19:05:38.611711",
     "exception": false,
     "start_time": "2023-06-20T19:05:38.604189",
     "status": "completed"
    },
    "tags": []
   },
   "source": [
    "### Visualizing Bengals' History \n",
    "\n",
    "With the dataset cleaned, PCT and PCT difference calculated, and top five PCT positive differences found, it's now time to create a visualization.\n",
    "\n",
    "The PCT across franchise history is plotted, with the five PCT positive differences as found above, highlighted in green.\n",
    "\n",
    "I then looked into these five seasons and tried to identify possible reasons for the increases, annotating them on the plot. There are a multitude of factors that go into an NFL's performance in a season. For example, a draft pick in one season may not cause a positive difference the next year, but perhaps three years later. While this plot doesn't intend to suggest that a single reason alone had the capability to increase Cincinnati's wins the next season, it does intend to provide illumination into the team's performance, and contextualize the numerical analysis with historical information.  "
   ]
  },
  {
   "cell_type": "code",
   "execution_count": 12,
   "id": "31d4fd0b",
   "metadata": {
    "execution": {
     "iopub.execute_input": "2023-06-20T19:05:38.628635Z",
     "iopub.status.busy": "2023-06-20T19:05:38.627590Z",
     "iopub.status.idle": "2023-06-20T19:05:39.767842Z",
     "shell.execute_reply": "2023-06-20T19:05:39.766731Z"
    },
    "papermill": {
     "duration": 1.151569,
     "end_time": "2023-06-20T19:05:39.770319",
     "exception": false,
     "start_time": "2023-06-20T19:05:38.618750",
     "status": "completed"
    },
    "tags": []
   },
   "outputs": [
    {
     "data": {
      "image/png": "[encoded data removed]",
      "text/plain": [
       "<Figure size 1200x800 with 1 Axes>"
      ]
     },
     "metadata": {},
     "output_type": "display_data"
    }
   ],
   "source": [
    "plt.rcParams['figure.figsize'] = [12, 8]\n",
    "\n",
    "plt.title('Cincinnati Bengals PCT since 1968', fontsize = 15)\n",
    "\n",
    "plt.xlabel('Season Year', fontsize = 13)\n",
    "\n",
    "plt.ylabel('PCT', fontsize = 13)\n",
    "\n",
    "plt.annotate('Joe Burrow \\n drafted', xy=(2020, 0.266667), xytext=(2021, 0.3), \n",
    "             arrowprops=dict(facecolor='black', arrowstyle='->'), fontsize=8)\n",
    "\n",
    "plt.annotate('Zac Taylor \\n becomes head coach', xy=(2019, 0.125000), xytext=(2012, 0.1), \n",
    "             arrowprops=dict(facecolor='black', arrowstyle='->'), fontsize=8)\n",
    "\n",
    "plt.annotate('Bengals make \\n Superbowl', xy=(2021, 0.588235), xytext=(2016, 0.6), \n",
    "             arrowprops=dict(facecolor='black', arrowstyle='->'), fontsize=8)\n",
    "\n",
    "plt.annotate('Injuries and player \\n departures dampen season', xy=(2008, 0.266667), xytext=(2008, 0.2), \n",
    "             arrowprops=dict(facecolor='black', arrowstyle='->'), fontsize=8)\n",
    "\n",
    "plt.annotate('Worst season in franchise history; \\n Bengals use first overall draft pick for \\n Carson Palmer ', \n",
    "             xy=(2002, 0.125000), xytext=(1994, 0.05), \n",
    "             arrowprops=dict(facecolor='black', arrowstyle='->'), fontsize=8)\n",
    "\n",
    "plt.annotate('Bengals popularize \\n No-huddle offense', xy=(1988, 0.75), xytext=(1988, 0.82),\n",
    "             arrowprops=dict(facecolor='black', arrowstyle='->'), fontsize=8)\n",
    "\n",
    "plt.annotate('Dick LeBeau joins, \\n implements zone \\n blitz defense', \n",
    "             xy=(1980, 0.375000), xytext=(1970, 0.1),\n",
    "             arrowprops=dict(facecolor='black', arrowstyle='->'), fontsize=8)\n",
    "\n",
    "plt.annotate('AJ Green drafted', \n",
    "             xy=(2011, 0.562500), xytext=(2008, 0.76),\n",
    "             arrowprops=dict(facecolor='black', arrowstyle='->'), fontsize=8)\n",
    "\n",
    "color_regions = [(2020, 2021), (2008, 2009), (2002, 2003), (1987, 1988), (1980, 1981)]\n",
    "\n",
    "for region in color_regions:\n",
    "    plt.axvspan(region[0], region[1], color='green', alpha=0.5)\n",
    "\n",
    "plt.plot(bengals['Year'], bengals['W-L%'], color = 'black')\n",
    "\n",
    "plt.ylim(0,1) #for setting y limits from 0 to 1 (since percentage)\n",
    "\n",
    "plt.grid(which='major', axis='both', linestyle='-.', linewidth=0.75) \n",
    "\n",
    "plt.xticks(bengals['Year'][::2], rotation = 50)\n",
    "\n",
    "plt.savefig('plot.jpg', format='jpeg')\n",
    "#plt.figure(figsize=(10, 10))\n",
    "\n",
    "plt.show()"
   ]
  },
  {
   "cell_type": "markdown",
   "id": "02abda25",
   "metadata": {
    "papermill": {
     "duration": 0.008489,
     "end_time": "2023-06-20T19:05:39.787752",
     "exception": false,
     "start_time": "2023-06-20T19:05:39.779263",
     "status": "completed"
    },
    "tags": []
   },
   "source": [
    "### Final Thoughts \n",
    "\n",
    "Before I became properly interested in football, my understanding was that the Bengals were a team of mediocrity – not quite the worst, but certainly not the best, or even that close to good. When I embarked on this project, I was expecting to see season after season of few wins, and then a sudden, meteoric rise in PCT after 2020 with the drafting of Joe Burrow.\n",
    "\n",
    "I was pleasantly surprised to discover that this was not the case, and that in fact, the Bengals’ PCT since 1968 looks less like a rollarcoaster's descent, and more like a heart monitor reading. Like most teams in the NFL, and like with most teams across all sports, good fortune comes, and then it goes. Players and coaches are constantly shifting, altering the chemistry of a team at every opportunity. A team can go from playing excellent to horrible between seasons, or even between games mere weeks apart from each other.\n",
    "\n",
    "While it's true the Bengals have endured its fair share of lingering heartbreak, this project illuminated certain periods of prosperity and good fortune. In an effort to provide context to the PCT history, I even learned about personnel and operational changes that played an important role in the team performance. (As someone who has played on a no-huddle offense team, I can appreciate the Bengal's utilization of it). What struck me in particular, though, was how short-lived these prosperous instances were throughout Bengals history. For example, the largest PCT increase was from the 1987 to 1988 season, but the following 1989 season saw a distinct fall in wins, ushering in a period of lackluster performance throughout the 1990's.\n",
    "\n",
    "Perhaps what makes the recent success of the franchise so exciting is the seeming longevity of it all. From a record low PCT in 2019, the Bengals have since seen a steady increase in PCT, most famously through their Super Bowl run in 2021, and then their finish in the AFC Championship in the recent 2022 season.\n",
    "\n",
    "It is my hope that the Burrow/Chase/Taylor era continues to shine, because based on the Bengals' history, what is most needed, and has been most lacking, is not just success, but sustainability.\n",
    "\n"
   ]
  },
  {
   "cell_type": "code",
   "execution_count": null,
   "id": "1986a959",
   "metadata": {},
   "outputs": [],
   "source": []
  }
 ],
 "metadata": {
  "kernelspec": {
   "display_name": "Python 3 (ipykernel)",
   "language": "python",
   "name": "python3"
  },
  "language_info": {
   "codemirror_mode": {
    "name": "ipython",
    "version": 3
   },
   "file_extension": ".py",
   "mimetype": "text/x-python",
   "name": "python",
   "nbconvert_exporter": "python",
   "pygments_lexer": "ipython3",
   "version": "3.9.13"
  },
  "papermill": {
   "default_parameters": {},
   "duration": 16.051344,
   "end_time": "2023-06-20T19:05:40.820386",
   "environment_variables": {},
   "exception": null,
   "input_path": "__notebook__.ipynb",
   "output_path": "__notebook__.ipynb",
   "parameters": {},
   "start_time": "2023-06-20T19:05:24.769042",
   "version": "2.4.0"
  }
 },
 "nbformat": 4,
 "nbformat_minor": 5
}
